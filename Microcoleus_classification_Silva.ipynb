{
  "nbformat": 4,
  "nbformat_minor": 0,
  "metadata": {
    "colab": {
      "provenance": [],
      "authorship_tag": "ABX9TyPscc6mSw3nLfZUVbib9Hg+",
      "include_colab_link": true
    },
    "kernelspec": {
      "name": "python3",
      "display_name": "Python 3"
    },
    "language_info": {
      "name": "python"
    }
  },
  "cells": [
    {
      "cell_type": "markdown",
      "metadata": {
        "id": "view-in-github",
        "colab_type": "text"
      },
      "source": [
        "<a href=\"https://colab.research.google.com/github/Cecilio8422/Microcoleus-classification/blob/main/Microcoleus_classification_Silva.ipynb\" target=\"_parent\"><img src=\"https://colab.research.google.com/assets/colab-badge.svg\" alt=\"Open In Colab\"/></a>"
      ]
    },
    {
      "cell_type": "code",
      "execution_count": null,
      "metadata": {
        "colab": {
          "base_uri": "https://localhost:8080/"
        },
        "id": "e2NdnImX0oI7",
        "outputId": "96e7adca-c1de-458f-9ff1-9d814460ffec"
      },
      "outputs": [
        {
          "output_type": "stream",
          "name": "stdout",
          "text": [
            "this is working\n"
          ]
        }
      ],
      "source": [
        "###### Make amplicon-region specific classifier\n",
        "!conda run -n qiime2-amplicon-2024.10 qiime feature-classifier extract-reads \\\n",
        "    --i-sequences silva-138.1-ssu-nr99-seqs_corrected-filt_Mc.qza \\\n",
        "    --p-f-primer AGRGTTYGATYMTGGCTCAG \\\n",
        "    --p-r-primer RGYTACCTTGTTACGACTT \\\n",
        "    --p-n-jobs 2 \\\n",
        "    --p-read-orientation 'forward' \\\n",
        "    --o-reads silva-138.1-ssu-nr99-seqs_corrected-filt_Mc-27f-1492r.qza"
      ]
    }
  ]
}